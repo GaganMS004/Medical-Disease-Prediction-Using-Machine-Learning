{
 "cells": [
  {
   "cell_type": "code",
   "execution_count": 4,
   "id": "1edec9c1-bfec-45a2-b723-c82b91e6b38f",
   "metadata": {},
   "outputs": [],
   "source": [
    "import pandas as pd \n",
    "import numpy as np \n",
    "from tkinter import * \n",
    "from tkinter import ttk \n",
    "from sklearn.model_selection import train_test_split \n",
    "from sklearn.tree import DecisionTreeClassifier \n",
    "from sklearn.ensemble import RandomForestClassifier \n",
    "from sklearn.naive_bayes import GaussianNB \n",
    "from sklearn.metrics import accuracy_score \n",
    "import matplotlib.pyplot as plt \n",
    "\n",
    "# --- Data Loading and Preprocessing ---\n",
    "# Assumes \"Training.csv\" and \"Testing.csv\" are available\n",
    "df = pd.read_csv(\"Training_Data.csv\") \n",
    "df_test = pd.read_csv(\"Testing_Data.csv\") \n",
    "\n",
    "# Extract symptoms (all columns except the last one)\n",
    "symptoms = df.columns[:-1] \n",
    "diseases = sorted(df[\"prognosis\"].unique()) \n",
    "\n",
    "# Create mappings for disease names to numerical indices\n",
    "disease_to_index = {disease: idx for idx, disease in enumerate(diseases)} \n",
    "index_to_disease = {idx: disease for disease, idx in disease_to_index.items()} \n",
    "\n",
    "# Convert disease names to numerical indices in the dataframes\n",
    "df[\"prognosis\"] = df[\"prognosis\"].map(disease_to_index) \n",
    "df_test[\"prognosis\"] = df_test[\"prognosis\"].map(disease_to_index) \n",
    "\n",
    "# Prepare training data\n",
    "X = df[symptoms] \n",
    "y = df[\"prognosis\"] \n",
    "\n",
    "# Split data into training and validation sets\n",
    "X_train, X_valid, y_train, y_valid = train_test_split(X, y, test_size=0.2, random_state=42) \n",
    "\n",
    "# --- Model Training ---\n",
    "# Train Decision Tree Classifier\n",
    "dt_clf = DecisionTreeClassifier(random_state=42).fit(X_train, y_train) \n",
    "# Train Random Forest Classifier\n",
    "rf_clf = RandomForestClassifier(random_state=42).fit(X_train, y_train) \n",
    "# Train Gaussian Naive Bayes Classifier\n",
    "nb_clf = GaussianNB().fit(X_train, y_train)"
   ]
  },
  {
   "cell_type": "code",
   "execution_count": null,
   "id": "8d7a313b-8a50-4136-9037-e5a2695fa315",
   "metadata": {},
   "outputs": [],
   "source": []
  }
 ],
 "metadata": {
  "kernelspec": {
   "display_name": "Python [conda env:base] *",
   "language": "python",
   "name": "conda-base-py"
  },
  "language_info": {
   "codemirror_mode": {
    "name": "ipython",
    "version": 3
   },
   "file_extension": ".py",
   "mimetype": "text/x-python",
   "name": "python",
   "nbconvert_exporter": "python",
   "pygments_lexer": "ipython3",
   "version": "3.11.7"
  }
 },
 "nbformat": 4,
 "nbformat_minor": 5
}
